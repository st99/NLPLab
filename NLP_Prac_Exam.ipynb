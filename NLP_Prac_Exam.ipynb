{
  "nbformat": 4,
  "nbformat_minor": 0,
  "metadata": {
    "colab": {
      "name": "NLP_Prac_Exam.ipynb",
      "provenance": [],
      "collapsed_sections": []
    },
    "kernelspec": {
      "name": "python3",
      "display_name": "Python 3"
    }
  },
  "cells": [
    {
      "cell_type": "code",
      "metadata": {
        "colab": {
          "base_uri": "https://localhost:8080/"
        },
        "id": "CzepO4eIiGUD",
        "outputId": "1e6a3d06-2913-40b2-fa6a-1a46fbd832b9"
      },
      "source": [
        "import nltk\r\n",
        "import string\r\n",
        "nltk.download('punkt')\r\n",
        "nltk.download('stopwords')\r\n",
        "nltk.download('wordnet')\r\n",
        "nltk.download('averaged_perceptron_tagger')\r\n",
        "nltk.download('brown')\r\n",
        "nltk.download('universal_tagset')\r\n",
        "from nltk.tokenize import sent_tokenize\r\n",
        "from nltk.tokenize import word_tokenize\r\n",
        "from nltk.corpus import stopwords\r\n",
        "from nltk.stem import WordNetLemmatizer\r\n",
        "from nltk.corpus import wordnet\r\n",
        "import csv\r\n",
        "import pandas as pd\r\n",
        "import requests\r\n",
        "from google.colab import files\r\n",
        "from google.colab import drive"
      ],
      "execution_count": 21,
      "outputs": [
        {
          "output_type": "stream",
          "text": [
            "[nltk_data] Downloading package punkt to /root/nltk_data...\n",
            "[nltk_data]   Package punkt is already up-to-date!\n",
            "[nltk_data] Downloading package stopwords to /root/nltk_data...\n",
            "[nltk_data]   Package stopwords is already up-to-date!\n",
            "[nltk_data] Downloading package wordnet to /root/nltk_data...\n",
            "[nltk_data]   Package wordnet is already up-to-date!\n",
            "[nltk_data] Downloading package averaged_perceptron_tagger to\n",
            "[nltk_data]     /root/nltk_data...\n",
            "[nltk_data]   Package averaged_perceptron_tagger is already up-to-\n",
            "[nltk_data]       date!\n",
            "[nltk_data] Downloading package brown to /root/nltk_data...\n",
            "[nltk_data]   Package brown is already up-to-date!\n",
            "[nltk_data] Downloading package universal_tagset to /root/nltk_data...\n",
            "[nltk_data]   Package universal_tagset is already up-to-date!\n"
          ],
          "name": "stdout"
        }
      ]
    },
    {
      "cell_type": "code",
      "metadata": {
        "id": "3ui_Bxj5oiYr"
      },
      "source": [
        "para1 = \"The COVID-19 pandemic, also known as the coronavirus pandemic, is an ongoing pandemic of coronavirus disease 2019 (COVID-19) caused by severe acute respiratory syndrome coronavirus 2 (SARS-CoV-2). It was first identified in December 2019 in Wuhan, China. The World Health Organization declared the outbreak a Public Health Emergency of International Concern in January 2020 and a pandemic in March 2020. As of 15 December 2020, more than 72.8 million cases have been confirmed, with more than 1.62 million deaths attributed to COVID-19.\"\r\n",
        "para2 = \"Symptoms of COVID-19 are highly variable, ranging from none to severe illness. The virus spreads mainly through the air when people are near each other. It leaves an infected person as they breathe, cough, sneeze, or speak and enters another person via their mouth, nose, or eyes. It might also spread via contaminated surfaces. People remain infectious for up to two weeks, and can spread the virus even if they do not have symptoms. Recommended preventive measures include social distancing, wearing a face mask in public, ventilation and air-filtering, hand washing, covering one's mouth when sneezing or coughing, disinfecting surfaces, and monitoring and self-isolation for people exposed or symptomatic. There are several COVID-19 vaccines in development. Current treatments focus on addressing symptoms while work is underway to develop therapeutic drugs that inhibit the virus. Authorities worldwide have responded by implementing travel restrictions, lockdowns, workplace hazard controls, and facility closures..\"\r\n",
        "paragraph = para1 + ' ' + para2"
      ],
      "execution_count": 27,
      "outputs": []
    },
    {
      "cell_type": "markdown",
      "metadata": {
        "id": "jXwpAeD1lf8L"
      },
      "source": [
        "### 1. Perform tokenization, lemmatization and also remove stop words from 2nd para."
      ]
    },
    {
      "cell_type": "markdown",
      "metadata": {
        "id": "CtaXtd2Vj7F4"
      },
      "source": [
        "Tokenising the paragraph"
      ]
    },
    {
      "cell_type": "code",
      "metadata": {
        "colab": {
          "base_uri": "https://localhost:8080/"
        },
        "id": "kaZVpKwvj-Va",
        "outputId": "b7e3d1d9-ada9-432f-d7b5-614fcd57fa52"
      },
      "source": [
        "words = word_tokenize(para2)\r\n",
        "print(words)"
      ],
      "execution_count": 7,
      "outputs": [
        {
          "output_type": "stream",
          "text": [
            "['Symptoms', 'of', 'COVID-19', 'are', 'highly', 'variable', ',', 'ranging', 'from', 'none', 'to', 'severe', 'illness', '.', 'The', 'virus', 'spreads', 'mainly', 'through', 'the', 'air', 'when', 'people', 'are', 'near', 'each', 'other', '.', 'It', 'leaves', 'an', 'infected', 'person', 'as', 'they', 'breathe', ',', 'cough', ',', 'sneeze', ',', 'or', 'speak', 'and', 'enters', 'another', 'person', 'via', 'their', 'mouth', ',', 'nose', ',', 'or', 'eyes', '.', 'It', 'might', 'also', 'spread', 'via', 'contaminated', 'surfaces', '.', 'People', 'remain', 'infectious', 'for', 'up', 'to', 'two', 'weeks', ',', 'and', 'can', 'spread', 'the', 'virus', 'even', 'if', 'they', 'do', 'not', 'have', 'symptoms', '.', 'Recommended', 'preventive', 'measures', 'include', 'social', 'distancing', ',', 'wearing', 'a', 'face', 'mask', 'in', 'public', ',', 'ventilation', 'and', 'air-filtering', ',', 'hand', 'washing', ',', 'covering', 'one', \"'s\", 'mouth', 'when', 'sneezing', 'or', 'coughing', ',', 'disinfecting', 'surfaces', ',', 'and', 'monitoring', 'and', 'self-isolation', 'for', 'people', 'exposed', 'or', 'symptomatic', '.', 'There', 'are', 'several', 'COVID-19', 'vaccines', 'in', 'development', '.', 'Current', 'treatments', 'focus', 'on', 'addressing', 'symptoms', 'while', 'work', 'is', 'underway', 'to', 'develop', 'therapeutic', 'drugs', 'that', 'inhibit', 'the', 'virus', '.', 'Authorities', 'worldwide', 'have', 'responded', 'by', 'implementing', 'travel', 'restrictions', ',', 'lockdowns', ',', 'workplace', 'hazard', 'controls', ',', 'and', 'facility', 'closures..']\n"
          ],
          "name": "stdout"
        }
      ]
    },
    {
      "cell_type": "markdown",
      "metadata": {
        "id": "h6Te2x70kIlf"
      },
      "source": [
        "Removing punctuations"
      ]
    },
    {
      "cell_type": "code",
      "metadata": {
        "colab": {
          "base_uri": "https://localhost:8080/"
        },
        "id": "YoaxEkrGkH5E",
        "outputId": "d914dd7e-ff71-4db4-ff8d-a3a8b884d759"
      },
      "source": [
        "only_words = [w for w in words if not w in string.punctuation]\r\n",
        "print(only_words)"
      ],
      "execution_count": 10,
      "outputs": [
        {
          "output_type": "stream",
          "text": [
            "['Symptoms', 'of', 'COVID-19', 'are', 'highly', 'variable', 'ranging', 'from', 'none', 'to', 'severe', 'illness', 'The', 'virus', 'spreads', 'mainly', 'through', 'the', 'air', 'when', 'people', 'are', 'near', 'each', 'other', 'It', 'leaves', 'an', 'infected', 'person', 'as', 'they', 'breathe', 'cough', 'sneeze', 'or', 'speak', 'and', 'enters', 'another', 'person', 'via', 'their', 'mouth', 'nose', 'or', 'eyes', 'It', 'might', 'also', 'spread', 'via', 'contaminated', 'surfaces', 'People', 'remain', 'infectious', 'for', 'up', 'to', 'two', 'weeks', 'and', 'can', 'spread', 'the', 'virus', 'even', 'if', 'they', 'do', 'not', 'have', 'symptoms', 'Recommended', 'preventive', 'measures', 'include', 'social', 'distancing', 'wearing', 'a', 'face', 'mask', 'in', 'public', 'ventilation', 'and', 'air-filtering', 'hand', 'washing', 'covering', 'one', \"'s\", 'mouth', 'when', 'sneezing', 'or', 'coughing', 'disinfecting', 'surfaces', 'and', 'monitoring', 'and', 'self-isolation', 'for', 'people', 'exposed', 'or', 'symptomatic', 'There', 'are', 'several', 'COVID-19', 'vaccines', 'in', 'development', 'Current', 'treatments', 'focus', 'on', 'addressing', 'symptoms', 'while', 'work', 'is', 'underway', 'to', 'develop', 'therapeutic', 'drugs', 'that', 'inhibit', 'the', 'virus', 'Authorities', 'worldwide', 'have', 'responded', 'by', 'implementing', 'travel', 'restrictions', 'lockdowns', 'workplace', 'hazard', 'controls', 'and', 'facility', 'closures..']\n"
          ],
          "name": "stdout"
        }
      ]
    },
    {
      "cell_type": "markdown",
      "metadata": {
        "id": "VF35riKGklKK"
      },
      "source": [
        "Removing Stopwords"
      ]
    },
    {
      "cell_type": "code",
      "metadata": {
        "colab": {
          "base_uri": "https://localhost:8080/"
        },
        "id": "YvWapjP_kkyK",
        "outputId": "9e68886b-ecdd-409c-d8de-e644392ad9f6"
      },
      "source": [
        "eng_stopwords=set(stopwords.words(\"english\"))\r\n",
        "keywords = [w for w in only_words if not w in eng_stopwords]\r\n",
        "print(keywords)"
      ],
      "execution_count": 13,
      "outputs": [
        {
          "output_type": "stream",
          "text": [
            "['Symptoms', 'COVID-19', 'highly', 'variable', 'ranging', 'none', 'severe', 'illness', 'The', 'virus', 'spreads', 'mainly', 'air', 'people', 'near', 'It', 'leaves', 'infected', 'person', 'breathe', 'cough', 'sneeze', 'speak', 'enters', 'another', 'person', 'via', 'mouth', 'nose', 'eyes', 'It', 'might', 'also', 'spread', 'via', 'contaminated', 'surfaces', 'People', 'remain', 'infectious', 'two', 'weeks', 'spread', 'virus', 'even', 'symptoms', 'Recommended', 'preventive', 'measures', 'include', 'social', 'distancing', 'wearing', 'face', 'mask', 'public', 'ventilation', 'air-filtering', 'hand', 'washing', 'covering', 'one', \"'s\", 'mouth', 'sneezing', 'coughing', 'disinfecting', 'surfaces', 'monitoring', 'self-isolation', 'people', 'exposed', 'symptomatic', 'There', 'several', 'COVID-19', 'vaccines', 'development', 'Current', 'treatments', 'focus', 'addressing', 'symptoms', 'work', 'underway', 'develop', 'therapeutic', 'drugs', 'inhibit', 'virus', 'Authorities', 'worldwide', 'responded', 'implementing', 'travel', 'restrictions', 'lockdowns', 'workplace', 'hazard', 'controls', 'facility', 'closures..']\n"
          ],
          "name": "stdout"
        }
      ]
    },
    {
      "cell_type": "markdown",
      "metadata": {
        "id": "mE5761KPk0FN"
      },
      "source": [
        "Lemmatizing the words"
      ]
    },
    {
      "cell_type": "code",
      "metadata": {
        "colab": {
          "base_uri": "https://localhost:8080/"
        },
        "id": "_lrnEzm-lKvH",
        "outputId": "24b3e1df-baa3-4522-e26c-5101f9814bf4"
      },
      "source": [
        "wordnet_lemmatizer = WordNetLemmatizer()\r\n",
        "for w in keywords:\r\n",
        "  print(wordnet_lemmatizer.lemmatize(w))"
      ],
      "execution_count": 15,
      "outputs": [
        {
          "output_type": "stream",
          "text": [
            "Symptoms\n",
            "COVID-19\n",
            "highly\n",
            "variable\n",
            "ranging\n",
            "none\n",
            "severe\n",
            "illness\n",
            "The\n",
            "virus\n",
            "spread\n",
            "mainly\n",
            "air\n",
            "people\n",
            "near\n",
            "It\n",
            "leaf\n",
            "infected\n",
            "person\n",
            "breathe\n",
            "cough\n",
            "sneeze\n",
            "speak\n",
            "enters\n",
            "another\n",
            "person\n",
            "via\n",
            "mouth\n",
            "nose\n",
            "eye\n",
            "It\n",
            "might\n",
            "also\n",
            "spread\n",
            "via\n",
            "contaminated\n",
            "surface\n",
            "People\n",
            "remain\n",
            "infectious\n",
            "two\n",
            "week\n",
            "spread\n",
            "virus\n",
            "even\n",
            "symptom\n",
            "Recommended\n",
            "preventive\n",
            "measure\n",
            "include\n",
            "social\n",
            "distancing\n",
            "wearing\n",
            "face\n",
            "mask\n",
            "public\n",
            "ventilation\n",
            "air-filtering\n",
            "hand\n",
            "washing\n",
            "covering\n",
            "one\n",
            "'s\n",
            "mouth\n",
            "sneezing\n",
            "coughing\n",
            "disinfecting\n",
            "surface\n",
            "monitoring\n",
            "self-isolation\n",
            "people\n",
            "exposed\n",
            "symptomatic\n",
            "There\n",
            "several\n",
            "COVID-19\n",
            "vaccine\n",
            "development\n",
            "Current\n",
            "treatment\n",
            "focus\n",
            "addressing\n",
            "symptom\n",
            "work\n",
            "underway\n",
            "develop\n",
            "therapeutic\n",
            "drug\n",
            "inhibit\n",
            "virus\n",
            "Authorities\n",
            "worldwide\n",
            "responded\n",
            "implementing\n",
            "travel\n",
            "restriction\n",
            "lockdown\n",
            "workplace\n",
            "hazard\n",
            "control\n",
            "facility\n",
            "closures..\n"
          ],
          "name": "stdout"
        }
      ]
    },
    {
      "cell_type": "markdown",
      "metadata": {
        "id": "GnYUvTMclYWa"
      },
      "source": [
        "### 2. Using wordnet, get the definition of ‘hazard’."
      ]
    },
    {
      "cell_type": "code",
      "metadata": {
        "colab": {
          "base_uri": "https://localhost:8080/"
        },
        "id": "bc9Qa2mAlvX6",
        "outputId": "68fb09b0-7e66-479b-803f-0c4392407143"
      },
      "source": [
        "print('Definition of hazard ::\\n'+wordnet.synsets('hazard')[0].definition())"
      ],
      "execution_count": 19,
      "outputs": [
        {
          "output_type": "stream",
          "text": [
            "Definition of hazard ::\n",
            "a source of danger; a possibility of incurring loss or misfortune\n"
          ],
          "name": "stdout"
        }
      ]
    },
    {
      "cell_type": "markdown",
      "metadata": {
        "id": "BCmM-PLPmUIt"
      },
      "source": [
        "### 3. Add a CSV file to get the antonym of virus, vaccines and deaths from the above paragraph."
      ]
    },
    {
      "cell_type": "code",
      "metadata": {
        "colab": {
          "base_uri": "https://localhost:8080/"
        },
        "id": "RQhmR266nGdw",
        "outputId": "d4c07b68-f3d0-4cdd-fe35-56164c201493"
      },
      "source": [
        "drive.mount('/content/drive')\r\n",
        "ant_file = pd.read_csv('/content/drive/My Drive/antonyms.csv', header=None)\r\n",
        "print('\\nAntonyms')\r\n",
        "print(ant_file)"
      ],
      "execution_count": 25,
      "outputs": [
        {
          "output_type": "stream",
          "text": [
            "Drive already mounted at /content/drive; to attempt to forcibly remount, call drive.mount(\"/content/drive\", force_remount=True).\n",
            "\n",
            "Antonyms\n",
            "          0         1\n",
            "0     virus  antidote\n",
            "1  vaccines  diseases\n",
            "2    deaths     lives\n"
          ],
          "name": "stdout"
        }
      ]
    },
    {
      "cell_type": "code",
      "metadata": {
        "colab": {
          "base_uri": "https://localhost:8080/"
        },
        "id": "_oadXWJnoK69",
        "outputId": "ca32a405-b1be-4dc2-f775-11e14b212c78"
      },
      "source": [
        "class csv_antonym_replacer(object):\r\n",
        "\r\n",
        "  def __init__(self, fname):\r\n",
        "    self.word_map = {}\r\n",
        "    for i in range(len(fname)):\r\n",
        "      self.word_map[fname.iloc[i,0]] = fname.iloc[i,1]\r\n",
        "  \r\n",
        "  def replace(self, word):\r\n",
        "        return self.word_map.get(word, word)\r\n",
        "ant_replacer = csv_antonym_replacer(ant_file)\r\n",
        "words = word_tokenize(paragraph)\r\n",
        "only_words = [w for w in words if not w in string.punctuation]\r\n",
        "ant_replaced = []\r\n",
        "for w in only_words:\r\n",
        "  ant_replaced.append(ant_replacer.replace(w))\r\n",
        "print(ant_replaced)"
      ],
      "execution_count": 28,
      "outputs": [
        {
          "output_type": "stream",
          "text": [
            "['The', 'COVID-19', 'pandemic', 'also', 'known', 'as', 'the', 'coronavirus', 'pandemic', 'is', 'an', 'ongoing', 'pandemic', 'of', 'coronavirus', 'disease', '2019', 'COVID-19', 'caused', 'by', 'severe', 'acute', 'respiratory', 'syndrome', 'coronavirus', '2', 'SARS-CoV-2', 'It', 'was', 'first', 'identified', 'in', 'December', '2019', 'in', 'Wuhan', 'China', 'The', 'World', 'Health', 'Organization', 'declared', 'the', 'outbreak', 'a', 'Public', 'Health', 'Emergency', 'of', 'International', 'Concern', 'in', 'January', '2020', 'and', 'a', 'pandemic', 'in', 'March', '2020', 'As', 'of', '15', 'December', '2020', 'more', 'than', '72.8', 'million', 'cases', 'have', 'been', 'confirmed', 'with', 'more', 'than', '1.62', 'million', 'lives', 'attributed', 'to', 'COVID-19', 'Symptoms', 'of', 'COVID-19', 'are', 'highly', 'variable', 'ranging', 'from', 'none', 'to', 'severe', 'illness', 'The', 'antidote', 'spreads', 'mainly', 'through', 'the', 'air', 'when', 'people', 'are', 'near', 'each', 'other', 'It', 'leaves', 'an', 'infected', 'person', 'as', 'they', 'breathe', 'cough', 'sneeze', 'or', 'speak', 'and', 'enters', 'another', 'person', 'via', 'their', 'mouth', 'nose', 'or', 'eyes', 'It', 'might', 'also', 'spread', 'via', 'contaminated', 'surfaces', 'People', 'remain', 'infectious', 'for', 'up', 'to', 'two', 'weeks', 'and', 'can', 'spread', 'the', 'antidote', 'even', 'if', 'they', 'do', 'not', 'have', 'symptoms', 'Recommended', 'preventive', 'measures', 'include', 'social', 'distancing', 'wearing', 'a', 'face', 'mask', 'in', 'public', 'ventilation', 'and', 'air-filtering', 'hand', 'washing', 'covering', 'one', \"'s\", 'mouth', 'when', 'sneezing', 'or', 'coughing', 'disinfecting', 'surfaces', 'and', 'monitoring', 'and', 'self-isolation', 'for', 'people', 'exposed', 'or', 'symptomatic', 'There', 'are', 'several', 'COVID-19', 'diseases', 'in', 'development', 'Current', 'treatments', 'focus', 'on', 'addressing', 'symptoms', 'while', 'work', 'is', 'underway', 'to', 'develop', 'therapeutic', 'drugs', 'that', 'inhibit', 'the', 'antidote', 'Authorities', 'worldwide', 'have', 'responded', 'by', 'implementing', 'travel', 'restrictions', 'lockdowns', 'workplace', 'hazard', 'controls', 'and', 'facility', 'closures..']\n"
          ],
          "name": "stdout"
        }
      ]
    },
    {
      "cell_type": "markdown",
      "metadata": {
        "id": "iWHaClXtqlBY"
      },
      "source": [
        "### 4. Tokenize and tag all the words in the 1st para with default universal tagset."
      ]
    },
    {
      "cell_type": "code",
      "metadata": {
        "id": "wJCdbJ7dqrcZ"
      },
      "source": [
        "words = word_tokenize(para1)\r\n",
        "only_words = [w for w in words if not w in string.punctuation]\r\n",
        "tagged_words = "
      ],
      "execution_count": null,
      "outputs": []
    }
  ]
}